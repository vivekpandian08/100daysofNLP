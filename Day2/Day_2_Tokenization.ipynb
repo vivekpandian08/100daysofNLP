{
 "cells": [
  {
   "cell_type": "code",
   "execution_count": 1,
   "metadata": {},
   "outputs": [],
   "source": [
    "import os\n",
    "os.chdir('C:/Users/vivek/OneDrive/Desktop/100daysofNLP')"
   ]
  },
  {
   "cell_type": "code",
   "execution_count": 2,
   "metadata": {},
   "outputs": [],
   "source": [
    "import pandas as pd\n",
    "import numpy as np"
   ]
  },
  {
   "cell_type": "code",
   "execution_count": 3,
   "metadata": {},
   "outputs": [],
   "source": [
    "pd.set_option('display.max_colwidth', -1)"
   ]
  },
  {
   "cell_type": "code",
   "execution_count": 55,
   "metadata": {},
   "outputs": [],
   "source": [
    "df=pd.read_csv('covid19.csv')"
   ]
  },
  {
   "cell_type": "code",
   "execution_count": 56,
   "metadata": {},
   "outputs": [
    {
     "name": "stdout",
     "output_type": "stream",
     "text": [
      "<class 'pandas.core.frame.DataFrame'>\n",
      "RangeIndex: 12000 entries, 0 to 11999\n",
      "Data columns (total 3 columns):\n",
      "Datetime    12000 non-null object\n",
      "Text        12000 non-null object\n",
      "Retweets    12000 non-null int64\n",
      "dtypes: int64(1), object(2)\n",
      "memory usage: 281.4+ KB\n"
     ]
    }
   ],
   "source": [
    "df.info()"
   ]
  },
  {
   "cell_type": "code",
   "execution_count": 57,
   "metadata": {},
   "outputs": [
    {
     "data": {
      "text/html": [
       "<div>\n",
       "<style scoped>\n",
       "    .dataframe tbody tr th:only-of-type {\n",
       "        vertical-align: middle;\n",
       "    }\n",
       "\n",
       "    .dataframe tbody tr th {\n",
       "        vertical-align: top;\n",
       "    }\n",
       "\n",
       "    .dataframe thead th {\n",
       "        text-align: right;\n",
       "    }\n",
       "</style>\n",
       "<table border=\"1\" class=\"dataframe\">\n",
       "  <thead>\n",
       "    <tr style=\"text-align: right;\">\n",
       "      <th></th>\n",
       "      <th>Datetime</th>\n",
       "      <th>Text</th>\n",
       "      <th>Retweets</th>\n",
       "    </tr>\n",
       "  </thead>\n",
       "  <tbody>\n",
       "    <tr>\n",
       "      <th>0</th>\n",
       "      <td>2020-03-31 23:59:59+00:00</td>\n",
       "      <td>“Nursing student Brian Thomas never imagined his on-the-job education would transform into fighting on the very front lines of the COVID-19 pandemic, or that he would be forced to take extreme safety precautions each time he arrived home from his internship...” - Mark S. King</td>\n",
       "      <td>11</td>\n",
       "    </tr>\n",
       "    <tr>\n",
       "      <th>1</th>\n",
       "      <td>2020-03-31 23:59:59+00:00</td>\n",
       "      <td>You can furlough only when there is no work for them to do, due to Covid-19. Once work is available, after the 3 week minimum, employee should be able to return to it. ie childcare commitment will not be taken in account and the organisation’s policy on absence is to be followed.</td>\n",
       "      <td>0</td>\n",
       "    </tr>\n",
       "    <tr>\n",
       "      <th>2</th>\n",
       "      <td>2020-03-31 23:59:59+00:00</td>\n",
       "      <td>Outspoken tycoon #RenZhiqiang “disappeared” more than 2 weeks after criticizing press restrictions &amp;amp; lack of #Chinese gov’t transparency about #COVID19 virus. He should be released immediately.</td>\n",
       "      <td>1036</td>\n",
       "    </tr>\n",
       "    <tr>\n",
       "      <th>3</th>\n",
       "      <td>2020-03-31 23:59:59+00:00</td>\n",
       "      <td>Jamaican invention a COVID-19 fighter http://www.jamaicaobserver.com/news/jamaican-invention-a-covid-19-fighter-utech-student-on-cloud-nine-as-creation-touted-as-possible-weapon-against-deadly-virus_190952 via @jamaicaobserver</td>\n",
       "      <td>0</td>\n",
       "    </tr>\n",
       "    <tr>\n",
       "      <th>4</th>\n",
       "      <td>2020-03-31 23:59:58+00:00</td>\n",
       "      <td>He golfed He campaigned He watched tv He partied He tweeted, hundreds of times. But he couldn't pay attention to a deadly virus 100,000 dead Americans The mother fucker should resign #coronavirus #covid19 .@realdonaldtrump</td>\n",
       "      <td>0</td>\n",
       "    </tr>\n",
       "  </tbody>\n",
       "</table>\n",
       "</div>"
      ],
      "text/plain": [
       "                    Datetime  \\\n",
       "0  2020-03-31 23:59:59+00:00   \n",
       "1  2020-03-31 23:59:59+00:00   \n",
       "2  2020-03-31 23:59:59+00:00   \n",
       "3  2020-03-31 23:59:59+00:00   \n",
       "4  2020-03-31 23:59:58+00:00   \n",
       "\n",
       "                                                                                                                                                                                                                                                                                       Text  \\\n",
       "0  “Nursing student Brian Thomas never imagined his on-the-job education would transform into fighting on the very front lines of the COVID-19 pandemic, or that he would be forced to take extreme safety precautions each time he arrived home from his internship...” - Mark S. King       \n",
       "1  You can furlough only when there is no work for them to do, due to Covid-19. Once work is available, after the 3 week minimum, employee should be able to return to it. ie childcare commitment will not be taken in account and the organisation’s policy on absence is to be followed.   \n",
       "2  Outspoken tycoon #RenZhiqiang “disappeared” more than 2 weeks after criticizing press restrictions &amp; lack of #Chinese gov’t transparency about #COVID19 virus. He should be released immediately.                                                                                      \n",
       "3  Jamaican invention a COVID-19 fighter http://www.jamaicaobserver.com/news/jamaican-invention-a-covid-19-fighter-utech-student-on-cloud-nine-as-creation-touted-as-possible-weapon-against-deadly-virus_190952 via @jamaicaobserver                                                         \n",
       "4  He golfed He campaigned He watched tv He partied He tweeted, hundreds of times. But he couldn't pay attention to a deadly virus 100,000 dead Americans The mother fucker should resign #coronavirus #covid19 .@realdonaldtrump                                                             \n",
       "\n",
       "   Retweets  \n",
       "0  11        \n",
       "1  0         \n",
       "2  1036      \n",
       "3  0         \n",
       "4  0         "
      ]
     },
     "execution_count": 57,
     "metadata": {},
     "output_type": "execute_result"
    }
   ],
   "source": [
    "df.head()"
   ]
  },
  {
   "cell_type": "code",
   "execution_count": 85,
   "metadata": {},
   "outputs": [
    {
     "data": {
      "text/plain": [
       "'Annually, as in 12 months. 61,000 deaths in 12 months. We’re only 3 months into this year and we’ve already got 42,000 deaths with no vaccine so that rate will just keep climbing. COVID-19 has 4% death rate, unlike the flu which has a 0.1% death rate.'"
      ]
     },
     "execution_count": 85,
     "metadata": {},
     "output_type": "execute_result"
    }
   ],
   "source": [
    "a=df.iloc[1219,1]\n",
    "a"
   ]
  },
  {
   "cell_type": "markdown",
   "metadata": {},
   "source": [
    "# Tokenization"
   ]
  },
  {
   "cell_type": "markdown",
   "metadata": {},
   "source": [
    "# Using Spacy"
   ]
  },
  {
   "cell_type": "code",
   "execution_count": 9,
   "metadata": {},
   "outputs": [
    {
     "name": "stdout",
     "output_type": "stream",
     "text": [
      "Requirement already satisfied: spacy in c:\\anaconda3\\lib\\site-packages (2.2.4)\n",
      "Requirement already satisfied: plac<1.2.0,>=0.9.6 in c:\\anaconda3\\lib\\site-packages (from spacy) (1.1.3)\n",
      "Requirement already satisfied: srsly<1.1.0,>=1.0.2 in c:\\anaconda3\\lib\\site-packages (from spacy) (1.0.2)\n",
      "Requirement already satisfied: tqdm<5.0.0,>=4.38.0 in c:\\anaconda3\\lib\\site-packages (from spacy) (4.45.0)\n",
      "Requirement already satisfied: thinc==7.4.0 in c:\\anaconda3\\lib\\site-packages (from spacy) (7.4.0)\n",
      "Requirement already satisfied: setuptools in c:\\anaconda3\\lib\\site-packages (from spacy) (41.6.0)\n",
      "Requirement already satisfied: cymem<2.1.0,>=2.0.2 in c:\\anaconda3\\lib\\site-packages (from spacy) (2.0.3)\n",
      "Requirement already satisfied: catalogue<1.1.0,>=0.0.7 in c:\\anaconda3\\lib\\site-packages (from spacy) (1.0.0)\n",
      "Requirement already satisfied: blis<0.5.0,>=0.4.0 in c:\\anaconda3\\lib\\site-packages (from spacy) (0.4.1)\n",
      "Requirement already satisfied: requests<3.0.0,>=2.13.0 in c:\\anaconda3\\lib\\site-packages (from spacy) (2.21.0)\n",
      "Requirement already satisfied: numpy>=1.15.0 in c:\\anaconda3\\lib\\site-packages (from spacy) (1.17.3)\n",
      "Requirement already satisfied: murmurhash<1.1.0,>=0.28.0 in c:\\anaconda3\\lib\\site-packages (from spacy) (1.0.2)\n",
      "Requirement already satisfied: preshed<3.1.0,>=3.0.2 in c:\\anaconda3\\lib\\site-packages (from spacy) (3.0.2)\n",
      "Requirement already satisfied: wasabi<1.1.0,>=0.4.0 in c:\\anaconda3\\lib\\site-packages (from spacy) (0.6.0)\n",
      "Requirement already satisfied: importlib-metadata>=0.20; python_version < \"3.8\" in c:\\anaconda3\\lib\\site-packages (from catalogue<1.1.0,>=0.0.7->spacy) (1.6.0)\n",
      "Requirement already satisfied: urllib3<1.25,>=1.21.1 in c:\\anaconda3\\lib\\site-packages (from requests<3.0.0,>=2.13.0->spacy) (1.24.1)\n",
      "Requirement already satisfied: chardet<3.1.0,>=3.0.2 in c:\\anaconda3\\lib\\site-packages (from requests<3.0.0,>=2.13.0->spacy) (3.0.4)\n",
      "Requirement already satisfied: certifi>=2017.4.17 in c:\\anaconda3\\lib\\site-packages (from requests<3.0.0,>=2.13.0->spacy) (2020.4.5.1)\n",
      "Requirement already satisfied: idna<2.9,>=2.5 in c:\\anaconda3\\lib\\site-packages (from requests<3.0.0,>=2.13.0->spacy) (2.8)\n",
      "Requirement already satisfied: zipp>=0.5 in c:\\anaconda3\\lib\\site-packages (from importlib-metadata>=0.20; python_version < \"3.8\"->catalogue<1.1.0,>=0.0.7->spacy) (3.1.0)\n"
     ]
    }
   ],
   "source": [
    "#!pip install spacy"
   ]
  },
  {
   "cell_type": "code",
   "execution_count": 11,
   "metadata": {},
   "outputs": [
    {
     "name": "stdout",
     "output_type": "stream",
     "text": [
      "Collecting en_core_web_sm==2.2.0\n",
      "  Downloading https://github.com/explosion/spacy-models/releases/download/en_core_web_sm-2.2.0/en_core_web_sm-2.2.0.tar.gz (12.0 MB)\n",
      "Requirement already satisfied: spacy>=2.2.0 in c:\\anaconda3\\lib\\site-packages (from en_core_web_sm==2.2.0) (2.2.4)\n",
      "Requirement already satisfied: setuptools in c:\\anaconda3\\lib\\site-packages (from spacy>=2.2.0->en_core_web_sm==2.2.0) (41.6.0)\n",
      "Requirement already satisfied: wasabi<1.1.0,>=0.4.0 in c:\\anaconda3\\lib\\site-packages (from spacy>=2.2.0->en_core_web_sm==2.2.0) (0.6.0)\n",
      "Requirement already satisfied: numpy>=1.15.0 in c:\\anaconda3\\lib\\site-packages (from spacy>=2.2.0->en_core_web_sm==2.2.0) (1.17.3)\n",
      "Requirement already satisfied: requests<3.0.0,>=2.13.0 in c:\\anaconda3\\lib\\site-packages (from spacy>=2.2.0->en_core_web_sm==2.2.0) (2.21.0)\n",
      "Requirement already satisfied: murmurhash<1.1.0,>=0.28.0 in c:\\anaconda3\\lib\\site-packages (from spacy>=2.2.0->en_core_web_sm==2.2.0) (1.0.2)\n",
      "Requirement already satisfied: thinc==7.4.0 in c:\\anaconda3\\lib\\site-packages (from spacy>=2.2.0->en_core_web_sm==2.2.0) (7.4.0)\n",
      "Requirement already satisfied: cymem<2.1.0,>=2.0.2 in c:\\anaconda3\\lib\\site-packages (from spacy>=2.2.0->en_core_web_sm==2.2.0) (2.0.3)\n",
      "Requirement already satisfied: blis<0.5.0,>=0.4.0 in c:\\anaconda3\\lib\\site-packages (from spacy>=2.2.0->en_core_web_sm==2.2.0) (0.4.1)\n",
      "Requirement already satisfied: srsly<1.1.0,>=1.0.2 in c:\\anaconda3\\lib\\site-packages (from spacy>=2.2.0->en_core_web_sm==2.2.0) (1.0.2)\n",
      "Requirement already satisfied: tqdm<5.0.0,>=4.38.0 in c:\\anaconda3\\lib\\site-packages (from spacy>=2.2.0->en_core_web_sm==2.2.0) (4.45.0)\n",
      "Requirement already satisfied: catalogue<1.1.0,>=0.0.7 in c:\\anaconda3\\lib\\site-packages (from spacy>=2.2.0->en_core_web_sm==2.2.0) (1.0.0)\n",
      "Requirement already satisfied: preshed<3.1.0,>=3.0.2 in c:\\anaconda3\\lib\\site-packages (from spacy>=2.2.0->en_core_web_sm==2.2.0) (3.0.2)\n",
      "Requirement already satisfied: plac<1.2.0,>=0.9.6 in c:\\anaconda3\\lib\\site-packages (from spacy>=2.2.0->en_core_web_sm==2.2.0) (1.1.3)\n",
      "Requirement already satisfied: idna<2.9,>=2.5 in c:\\anaconda3\\lib\\site-packages (from requests<3.0.0,>=2.13.0->spacy>=2.2.0->en_core_web_sm==2.2.0) (2.8)\n",
      "Requirement already satisfied: chardet<3.1.0,>=3.0.2 in c:\\anaconda3\\lib\\site-packages (from requests<3.0.0,>=2.13.0->spacy>=2.2.0->en_core_web_sm==2.2.0) (3.0.4)\n",
      "Requirement already satisfied: certifi>=2017.4.17 in c:\\anaconda3\\lib\\site-packages (from requests<3.0.0,>=2.13.0->spacy>=2.2.0->en_core_web_sm==2.2.0) (2020.4.5.1)\n",
      "Requirement already satisfied: urllib3<1.25,>=1.21.1 in c:\\anaconda3\\lib\\site-packages (from requests<3.0.0,>=2.13.0->spacy>=2.2.0->en_core_web_sm==2.2.0) (1.24.1)\n",
      "Requirement already satisfied: importlib-metadata>=0.20; python_version < \"3.8\" in c:\\anaconda3\\lib\\site-packages (from catalogue<1.1.0,>=0.0.7->spacy>=2.2.0->en_core_web_sm==2.2.0) (1.6.0)\n",
      "Requirement already satisfied: zipp>=0.5 in c:\\anaconda3\\lib\\site-packages (from importlib-metadata>=0.20; python_version < \"3.8\"->catalogue<1.1.0,>=0.0.7->spacy>=2.2.0->en_core_web_sm==2.2.0) (3.1.0)\n",
      "Building wheels for collected packages: en-core-web-sm\n",
      "  Building wheel for en-core-web-sm (setup.py): started\n",
      "  Building wheel for en-core-web-sm (setup.py): finished with status 'done'\n",
      "  Created wheel for en-core-web-sm: filename=en_core_web_sm-2.2.0-py3-none-any.whl size=12019127 sha256=eb1f77e100691fc500ede013c43b5bed3b94ccb0b084c8c527acec224d718aa1\n",
      "  Stored in directory: C:\\Users\\vivek\\AppData\\Local\\Temp\\pip-ephem-wheel-cache-zpx48x4q\\wheels\\64\\69\\41\\6f820cf1d7488a0381a2059f66ec9f8f23116f7c67d18f3d8d\n",
      "Successfully built en-core-web-sm\n",
      "Installing collected packages: en-core-web-sm\n",
      "Successfully installed en-core-web-sm-2.2.0\n",
      "symbolic link created for C:\\Anaconda3\\lib\\site-packages\\spacy\\data\\en <<===>> C:\\Anaconda3\\lib\\site-packages\\en_core_web_sm\n",
      "[+] Download and installation successful\n",
      "You can now load the model via spacy.load('en_core_web_sm')\n",
      "[+] Linking successful\n",
      "C:\\Anaconda3\\lib\\site-packages\\en_core_web_sm -->\n",
      "C:\\Anaconda3\\lib\\site-packages\\spacy\\data\\en\n",
      "You can now load the model via spacy.load('en')\n"
     ]
    }
   ],
   "source": [
    "#!python -m spacy download en"
   ]
  },
  {
   "cell_type": "code",
   "execution_count": 8,
   "metadata": {},
   "outputs": [],
   "source": [
    "import spacy\n",
    "spacy.load('en')\n",
    "nlp=spacy.load('en_core_web_sm')"
   ]
  },
  {
   "cell_type": "code",
   "execution_count": 86,
   "metadata": {},
   "outputs": [
    {
     "name": "stdout",
     "output_type": "stream",
     "text": [
      "['Annually', ',', 'as', 'in', '12', 'months', '.', '61,000', 'deaths', 'in', '12', 'months', '.', 'We', '’re', 'only', '3', 'months', 'into', 'this', 'year', 'and', 'we', '’ve', 'already', 'got', '42,000', 'deaths', 'with', 'no', 'vaccine', 'so', 'that', 'rate', 'will', 'just', 'keep', 'climbing', '.', 'COVID-19', 'has', '4', '%', 'death', 'rate', ',', 'unlike', 'the', 'flu', 'which', 'has', 'a', '0.1', '%', 'death', 'rate', '.']\n"
     ]
    }
   ],
   "source": [
    "doc = nlp(a)\n",
    "tokens = [token.text for token in doc]\n",
    "print(tokens)"
   ]
  },
  {
   "cell_type": "code",
   "execution_count": 87,
   "metadata": {},
   "outputs": [
    {
     "data": {
      "text/plain": [
       "57"
      ]
     },
     "execution_count": 87,
     "metadata": {},
     "output_type": "execute_result"
    }
   ],
   "source": [
    "len(doc)"
   ]
  },
  {
   "cell_type": "code",
   "execution_count": 89,
   "metadata": {},
   "outputs": [
    {
     "data": {
      "text/plain": [
       ", as in 12 months."
      ]
     },
     "execution_count": 89,
     "metadata": {},
     "output_type": "execute_result"
    }
   ],
   "source": [
    "doc[1:7]"
   ]
  },
  {
   "cell_type": "code",
   "execution_count": 90,
   "metadata": {},
   "outputs": [],
   "source": [
    "from spacy.lang.en import English\n",
    "\n",
    "# Create the nlp object\n",
    "nlp = English()"
   ]
  },
  {
   "cell_type": "code",
   "execution_count": 91,
   "metadata": {},
   "outputs": [
    {
     "name": "stdout",
     "output_type": "stream",
     "text": [
      "Annually\n",
      ",\n",
      "as\n",
      "in\n",
      "12\n",
      "months\n",
      ".\n",
      "61,000\n",
      "deaths\n",
      "in\n",
      "12\n",
      "months\n",
      ".\n",
      "We\n",
      "’re\n",
      "only\n",
      "3\n",
      "months\n",
      "into\n",
      "this\n",
      "year\n",
      "and\n",
      "we\n",
      "’ve\n",
      "already\n",
      "got\n",
      "42,000\n",
      "deaths\n",
      "with\n",
      "no\n",
      "vaccine\n",
      "so\n",
      "that\n",
      "rate\n",
      "will\n",
      "just\n",
      "keep\n",
      "climbing\n",
      ".\n",
      "COVID-19\n",
      "has\n",
      "4\n",
      "%\n",
      "death\n",
      "rate\n",
      ",\n",
      "unlike\n",
      "the\n",
      "flu\n",
      "which\n",
      "has\n",
      "a\n",
      "0.1\n",
      "%\n",
      "death\n",
      "rate\n",
      ".\n"
     ]
    }
   ],
   "source": [
    "doc1 = nlp(a)\n",
    "\n",
    "# Iterate over tokens in a Doc\n",
    "for token in doc1:\n",
    "    print(token.text)"
   ]
  },
  {
   "cell_type": "code",
   "execution_count": 92,
   "metadata": {},
   "outputs": [
    {
     "name": "stdout",
     "output_type": "stream",
     "text": [
      ", as in\n"
     ]
    }
   ],
   "source": [
    "# A slice from the Doc is a Span object\n",
    "span = doc1[1:4]\n",
    "\n",
    "# Get the span text via the .text attribute\n",
    "print(span.text)"
   ]
  },
  {
   "cell_type": "markdown",
   "metadata": {},
   "source": [
    "# Using NLTK"
   ]
  },
  {
   "cell_type": "code",
   "execution_count": 93,
   "metadata": {},
   "outputs": [
    {
     "name": "stderr",
     "output_type": "stream",
     "text": [
      "[nltk_data] Downloading package punkt to\n",
      "[nltk_data]     C:\\Users\\vivek\\AppData\\Roaming\\nltk_data...\n",
      "[nltk_data]   Package punkt is already up-to-date!\n"
     ]
    },
    {
     "data": {
      "text/plain": [
       "True"
      ]
     },
     "execution_count": 93,
     "metadata": {},
     "output_type": "execute_result"
    }
   ],
   "source": [
    "import nltk\n",
    "nltk.download('punkt')"
   ]
  },
  {
   "cell_type": "code",
   "execution_count": 104,
   "metadata": {},
   "outputs": [
    {
     "name": "stdout",
     "output_type": "stream",
     "text": [
      "['Annually', ',', 'as', 'in', '12', 'months', '.', '61,000', 'deaths', 'in', '12', 'months', '.', 'We', '’', 're', 'only', '3', 'months', 'into', 'this', 'year', 'and', 'we', '’', 've', 'already', 'got', '42,000', 'deaths', 'with', 'no', 'vaccine', 'so', 'that', 'rate', 'will', 'just', 'keep', 'climbing', '.', 'COVID-19', 'has', '4', '%', 'death', 'rate', ',', 'unlike', 'the', 'flu', 'which', 'has', 'a', '0.1', '%', 'death', 'rate', '.']\n"
     ]
    }
   ],
   "source": [
    "x=nltk.word_tokenize(a)\n",
    "print(x)"
   ]
  },
  {
   "cell_type": "code",
   "execution_count": 101,
   "metadata": {},
   "outputs": [
    {
     "data": {
      "text/plain": [
       "59"
      ]
     },
     "execution_count": 101,
     "metadata": {},
     "output_type": "execute_result"
    }
   ],
   "source": [
    "len(x)"
   ]
  },
  {
   "cell_type": "code",
   "execution_count": 103,
   "metadata": {},
   "outputs": [
    {
     "data": {
      "text/plain": [
       "-2"
      ]
     },
     "execution_count": 103,
     "metadata": {},
     "output_type": "execute_result"
    }
   ],
   "source": [
    "len(tokens)-len(x)"
   ]
  }
 ],
 "metadata": {
  "kernelspec": {
   "display_name": "Python 3",
   "language": "python",
   "name": "python3"
  },
  "language_info": {
   "codemirror_mode": {
    "name": "ipython",
    "version": 3
   },
   "file_extension": ".py",
   "mimetype": "text/x-python",
   "name": "python",
   "nbconvert_exporter": "python",
   "pygments_lexer": "ipython3",
   "version": "3.7.1"
  }
 },
 "nbformat": 4,
 "nbformat_minor": 2
}

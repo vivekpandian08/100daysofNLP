{
 "cells": [
  {
   "cell_type": "code",
   "execution_count": 14,
   "metadata": {},
   "outputs": [],
   "source": [
    "import os\n",
    "os.chdir('C:/Users/vivek/OneDrive/Desktop/videogames')"
   ]
  },
  {
   "cell_type": "code",
   "execution_count": 15,
   "metadata": {},
   "outputs": [],
   "source": [
    "import numpy as np\n",
    "import pandas as pd\n",
    "import matplotlib.pyplot as plt\n",
    "import seaborn as sns\n",
    "import csv\n",
    "import os.path\n",
    "import sys"
   ]
  },
  {
   "cell_type": "code",
   "execution_count": 16,
   "metadata": {},
   "outputs": [],
   "source": [
    "pd.set_option('display.max_colwidth', -1)"
   ]
  },
  {
   "cell_type": "code",
   "execution_count": 17,
   "metadata": {},
   "outputs": [],
   "source": [
    "import simplejson as json\n",
    "import pandas as pd\n",
    "import gzip\n",
    "\n",
    "def parse(path):\n",
    "  g = gzip.open(path, 'rb')\n",
    "  for l in g:\n",
    "    yield json.loads(l)\n",
    "\n",
    "def getDF(path):\n",
    "  i = 0\n",
    "  df = {}\n",
    "  for d in parse(path):\n",
    "    df[i] = d\n",
    "    i += 1\n",
    "  return pd.DataFrame.from_dict(df, orient='index')\n",
    "\n",
    "df = getDF('Video_Games_5.json.gz')"
   ]
  },
  {
   "cell_type": "code",
   "execution_count": 18,
   "metadata": {},
   "outputs": [
    {
     "data": {
      "text/html": [
       "<div>\n",
       "<style scoped>\n",
       "    .dataframe tbody tr th:only-of-type {\n",
       "        vertical-align: middle;\n",
       "    }\n",
       "\n",
       "    .dataframe tbody tr th {\n",
       "        vertical-align: top;\n",
       "    }\n",
       "\n",
       "    .dataframe thead th {\n",
       "        text-align: right;\n",
       "    }\n",
       "</style>\n",
       "<table border=\"1\" class=\"dataframe\">\n",
       "  <thead>\n",
       "    <tr style=\"text-align: right;\">\n",
       "      <th></th>\n",
       "      <th>overall</th>\n",
       "      <th>verified</th>\n",
       "      <th>reviewTime</th>\n",
       "      <th>reviewerID</th>\n",
       "      <th>asin</th>\n",
       "      <th>reviewerName</th>\n",
       "      <th>reviewText</th>\n",
       "      <th>summary</th>\n",
       "      <th>unixReviewTime</th>\n",
       "      <th>vote</th>\n",
       "      <th>style</th>\n",
       "      <th>image</th>\n",
       "    </tr>\n",
       "  </thead>\n",
       "  <tbody>\n",
       "    <tr>\n",
       "      <th>0</th>\n",
       "      <td>5.0</td>\n",
       "      <td>True</td>\n",
       "      <td>10 17, 2015</td>\n",
       "      <td>A1HP7NVNPFMA4N</td>\n",
       "      <td>0700026657</td>\n",
       "      <td>Ambrosia075</td>\n",
       "      <td>This game is a bit hard to get the hang of, but when you do it's great.</td>\n",
       "      <td>but when you do it's great.</td>\n",
       "      <td>1445040000</td>\n",
       "      <td>NaN</td>\n",
       "      <td>NaN</td>\n",
       "      <td>NaN</td>\n",
       "    </tr>\n",
       "    <tr>\n",
       "      <th>1</th>\n",
       "      <td>4.0</td>\n",
       "      <td>False</td>\n",
       "      <td>07 27, 2015</td>\n",
       "      <td>A1JGAP0185YJI6</td>\n",
       "      <td>0700026657</td>\n",
       "      <td>travis</td>\n",
       "      <td>I played it a while but it was alright. The steam was a bit of trouble. The more they move these game to steam the more of a hard time I have activating and playing a game. But in spite of that it was fun, I liked it. Now I am looking forward to anno 2205 I really want to play my way to the moon.</td>\n",
       "      <td>But in spite of that it was fun, I liked it</td>\n",
       "      <td>1437955200</td>\n",
       "      <td>NaN</td>\n",
       "      <td>NaN</td>\n",
       "      <td>NaN</td>\n",
       "    </tr>\n",
       "    <tr>\n",
       "      <th>2</th>\n",
       "      <td>3.0</td>\n",
       "      <td>True</td>\n",
       "      <td>02 23, 2015</td>\n",
       "      <td>A1YJWEXHQBWK2B</td>\n",
       "      <td>0700026657</td>\n",
       "      <td>Vincent G. Mezera</td>\n",
       "      <td>ok game.</td>\n",
       "      <td>Three Stars</td>\n",
       "      <td>1424649600</td>\n",
       "      <td>NaN</td>\n",
       "      <td>NaN</td>\n",
       "      <td>NaN</td>\n",
       "    </tr>\n",
       "    <tr>\n",
       "      <th>3</th>\n",
       "      <td>2.0</td>\n",
       "      <td>True</td>\n",
       "      <td>02 20, 2015</td>\n",
       "      <td>A2204E1TH211HT</td>\n",
       "      <td>0700026657</td>\n",
       "      <td>Grandma KR</td>\n",
       "      <td>found the game a bit too complicated, not what I expected after having played 1602, 1503, and 1701</td>\n",
       "      <td>Two Stars</td>\n",
       "      <td>1424390400</td>\n",
       "      <td>NaN</td>\n",
       "      <td>NaN</td>\n",
       "      <td>NaN</td>\n",
       "    </tr>\n",
       "    <tr>\n",
       "      <th>4</th>\n",
       "      <td>5.0</td>\n",
       "      <td>True</td>\n",
       "      <td>12 25, 2014</td>\n",
       "      <td>A2RF5B5H74JLPE</td>\n",
       "      <td>0700026657</td>\n",
       "      <td>jon</td>\n",
       "      <td>great game, I love it and have played it since its arrived</td>\n",
       "      <td>love this game</td>\n",
       "      <td>1419465600</td>\n",
       "      <td>NaN</td>\n",
       "      <td>NaN</td>\n",
       "      <td>NaN</td>\n",
       "    </tr>\n",
       "  </tbody>\n",
       "</table>\n",
       "</div>"
      ],
      "text/plain": [
       "   overall  verified   reviewTime      reviewerID        asin  \\\n",
       "0  5.0      True      10 17, 2015  A1HP7NVNPFMA4N  0700026657   \n",
       "1  4.0      False     07 27, 2015  A1JGAP0185YJI6  0700026657   \n",
       "2  3.0      True      02 23, 2015  A1YJWEXHQBWK2B  0700026657   \n",
       "3  2.0      True      02 20, 2015  A2204E1TH211HT  0700026657   \n",
       "4  5.0      True      12 25, 2014  A2RF5B5H74JLPE  0700026657   \n",
       "\n",
       "        reviewerName  \\\n",
       "0  Ambrosia075         \n",
       "1  travis              \n",
       "2  Vincent G. Mezera   \n",
       "3  Grandma KR          \n",
       "4  jon                 \n",
       "\n",
       "                                                                                                                                                                                                                                                                                                  reviewText  \\\n",
       "0  This game is a bit hard to get the hang of, but when you do it's great.                                                                                                                                                                                                                                     \n",
       "1  I played it a while but it was alright. The steam was a bit of trouble. The more they move these game to steam the more of a hard time I have activating and playing a game. But in spite of that it was fun, I liked it. Now I am looking forward to anno 2205 I really want to play my way to the moon.   \n",
       "2  ok game.                                                                                                                                                                                                                                                                                                    \n",
       "3  found the game a bit too complicated, not what I expected after having played 1602, 1503, and 1701                                                                                                                                                                                                          \n",
       "4  great game, I love it and have played it since its arrived                                                                                                                                                                                                                                                  \n",
       "\n",
       "                                       summary  unixReviewTime vote style  \\\n",
       "0  but when you do it's great.                  1445040000      NaN  NaN    \n",
       "1  But in spite of that it was fun, I liked it  1437955200      NaN  NaN    \n",
       "2  Three Stars                                  1424649600      NaN  NaN    \n",
       "3  Two Stars                                    1424390400      NaN  NaN    \n",
       "4  love this game                               1419465600      NaN  NaN    \n",
       "\n",
       "  image  \n",
       "0  NaN   \n",
       "1  NaN   \n",
       "2  NaN   \n",
       "3  NaN   \n",
       "4  NaN   "
      ]
     },
     "execution_count": 18,
     "metadata": {},
     "output_type": "execute_result"
    }
   ],
   "source": [
    "df.head()"
   ]
  },
  {
   "cell_type": "code",
   "execution_count": 19,
   "metadata": {},
   "outputs": [
    {
     "data": {
      "text/plain": [
       "(497577, 12)"
      ]
     },
     "execution_count": 19,
     "metadata": {},
     "output_type": "execute_result"
    }
   ],
   "source": [
    "df.shape"
   ]
  },
  {
   "cell_type": "code",
   "execution_count": 27,
   "metadata": {},
   "outputs": [],
   "source": [
    "a=df.iloc[111343,6]\n",
    "b=df.iloc[400043,6]"
   ]
  },
  {
   "cell_type": "code",
   "execution_count": 26,
   "metadata": {},
   "outputs": [
    {
     "data": {
      "text/plain": [
       "\"Sadly, I had high hopes to play my Dreamcast on my HDTV. The shipping was fast and price is good. I hocked it up and got no signal out the VGA port. The S-Video worked but that's not what I wanted this for. I have read so many reviews of how theirs works and how good the games look. *Sigh* I only wish mine did. I may purchase this again.\""
      ]
     },
     "execution_count": 26,
     "metadata": {},
     "output_type": "execute_result"
    }
   ],
   "source": [
    "a"
   ]
  },
  {
   "cell_type": "code",
   "execution_count": 28,
   "metadata": {},
   "outputs": [
    {
     "data": {
      "text/plain": [
       "'This arrived a day early. The game is entertaining for wrestling fans.  I wouldn\\'t say it\\'s great, but it\\'s definitely \"good\".\\n\\n The storyline is linear, so if you aren\\'t good at submissions,  it\\'s easy to get stuck.  I feel like that\\'s poorly designed.  It unlocks different features in the game,  so it\\'s more than just annoying and feels more like a failure.\\n\\nCreation menus are widely varied which can lead to a lot if unique wrestlers, despite a lot of options there are limitations that become apparent in short order.  It\\'s also difficult to use the shaders.  The hair does not look even close to real.  Being able to upload my own music would be a huge plus, but not available.  Facial expressions and anything humanizing really takes a big hit when using wrestler you create.\\n\\nThere are a ton of moves, finishers, and signature moves (which can be different than finishers).  The variety is almost overwhelming.\\n\\nFans will like this.  Perhaps even old fans trying to recapture the days of Andre the Giant and the like.  Good game, all in all.'"
      ]
     },
     "execution_count": 28,
     "metadata": {},
     "output_type": "execute_result"
    }
   ],
   "source": [
    "b"
   ]
  },
  {
   "cell_type": "markdown",
   "metadata": {},
   "source": [
    "# spaCy"
   ]
  },
  {
   "cell_type": "code",
   "execution_count": 31,
   "metadata": {},
   "outputs": [],
   "source": [
    "import spacy\n",
    "spacy.load('en')\n",
    "nlp=spacy.load('en_core_web_sm')"
   ]
  },
  {
   "cell_type": "code",
   "execution_count": 33,
   "metadata": {},
   "outputs": [
    {
     "name": "stdout",
     "output_type": "stream",
     "text": [
      "Original Article: This arrived a day early. The game is entertaining for wrestling fans.  I wouldn't say it's great, but it's definitely \"good\".\n",
      "\n",
      " The storyline is linear, so if you aren't good at submissions,  it's easy to get stuck.  I feel like that's poorly designed.  It unlocks different features in the game,  so it's more than just annoying and feels more like a failure.\n",
      "\n",
      "Creation menus are widely varied which can lead to a lot if unique wrestlers, despite a lot of options there are limitations that become apparent in short order.  It's also difficult to use the shaders.  The hair does not look even close to real.  Being able to upload my own music would be a huge plus, but not available.  Facial expressions and anything humanizing really takes a big hit when using wrestler you create.\n",
      "\n",
      "There are a ton of moves, finishers, and signature moves (which can be different than finishers).  The variety is almost overwhelming.\n",
      "\n",
      "Fans will like this.  Perhaps even old fans trying to recapture the days of Andre the Giant and the like.  Good game, all in all.\n",
      "\n",
      "-->Sentence 0: This arrived a day early.\n",
      "\n",
      "-->Sentence 1: The game is entertaining for wrestling fans.  \n",
      "\n",
      "-->Sentence 2: I wouldn't say it's great, but it's definitely \"good\".\n",
      "\n",
      " \n",
      "\n",
      "-->Sentence 3: The storyline is linear, so if you aren't good at submissions,  it's easy to get stuck.  \n",
      "\n",
      "-->Sentence 4: I feel like that's poorly designed.  \n",
      "\n",
      "-->Sentence 5: It unlocks different features in the game,  so it's more than just annoying and feels more like a failure.\n",
      "\n",
      "\n",
      "\n",
      "-->Sentence 6: Creation menus are widely varied which can lead to a lot if unique wrestlers, despite a lot of options there are limitations that become apparent in short order.  \n",
      "\n",
      "-->Sentence 7: It's also difficult to use the shaders.  \n",
      "\n",
      "-->Sentence 8: The hair does not look even close to real.  \n",
      "\n",
      "-->Sentence 9: Being able to upload my own music would be a huge plus, but not available.  \n",
      "\n",
      "-->Sentence 10: Facial expressions and anything humanizing really takes a big hit when using wrestler you create.\n",
      "\n",
      "\n",
      "\n",
      "-->Sentence 11: There are a ton of moves, finishers, and signature moves (which can be different than finishers).  \n",
      "\n",
      "-->Sentence 12: The variety is almost overwhelming.\n",
      "\n",
      "\n",
      "\n",
      "-->Sentence 13: Fans will like this.  \n",
      "\n",
      "-->Sentence 14: Perhaps even old fans trying to recapture the days of Andre the Giant and the like.  \n",
      "\n",
      "-->Sentence 15: Good game, all in all.\n",
      "\n"
     ]
    }
   ],
   "source": [
    "for document in [b]:\n",
    "    print('Original Article: %s' % (document))\n",
    "    print()\n",
    "    doc = nlp(document)\n",
    "    for i, token in enumerate(doc.sents):\n",
    "        print('-->Sentence %d: %s' % (i, token.text))\n",
    "        print()"
   ]
  },
  {
   "cell_type": "code",
   "execution_count": 39,
   "metadata": {},
   "outputs": [
    {
     "data": {
      "text/plain": [
       "['This arrived a day early.',\n",
       " 'The game is entertaining for wrestling fans.  ',\n",
       " 'I wouldn\\'t say it\\'s great, but it\\'s definitely \"good\".\\n\\n ',\n",
       " \"The storyline is linear, so if you aren't good at submissions,  it's easy to get stuck.  \",\n",
       " \"I feel like that's poorly designed.  \",\n",
       " \"It unlocks different features in the game,  so it's more than just annoying and feels more like a failure.\\n\\n\",\n",
       " 'Creation menus are widely varied which can lead to a lot if unique wrestlers, despite a lot of options there are limitations that become apparent in short order.  ',\n",
       " \"It's also difficult to use the shaders.  \",\n",
       " 'The hair does not look even close to real.  ',\n",
       " 'Being able to upload my own music would be a huge plus, but not available.  ',\n",
       " 'Facial expressions and anything humanizing really takes a big hit when using wrestler you create.\\n\\n',\n",
       " 'There are a ton of moves, finishers, and signature moves (which can be different than finishers).  ',\n",
       " 'The variety is almost overwhelming.\\n\\n',\n",
       " 'Fans will like this.  ',\n",
       " 'Perhaps even old fans trying to recapture the days of Andre the Giant and the like.  ',\n",
       " 'Good game, all in all.']"
      ]
     },
     "execution_count": 39,
     "metadata": {},
     "output_type": "execute_result"
    }
   ],
   "source": [
    "doc = nlp(b)\n",
    "tokens = [token.text  for token in doc.sents]\n",
    "tokens"
   ]
  },
  {
   "cell_type": "code",
   "execution_count": 48,
   "metadata": {},
   "outputs": [
    {
     "name": "stdout",
     "output_type": "stream",
     "text": [
      "Number of sentences: 16\n"
     ]
    }
   ],
   "source": [
    "print(\"Number of sentences:\",len(tokens))"
   ]
  },
  {
   "cell_type": "markdown",
   "metadata": {},
   "source": [
    "# NLTK"
   ]
  },
  {
   "cell_type": "code",
   "execution_count": 42,
   "metadata": {},
   "outputs": [
    {
     "name": "stderr",
     "output_type": "stream",
     "text": [
      "[nltk_data] Downloading package punkt to\n",
      "[nltk_data]     C:\\Users\\vivek\\AppData\\Roaming\\nltk_data...\n",
      "[nltk_data]   Package punkt is already up-to-date!\n"
     ]
    },
    {
     "data": {
      "text/plain": [
       "True"
      ]
     },
     "execution_count": 42,
     "metadata": {},
     "output_type": "execute_result"
    }
   ],
   "source": [
    "import nltk\n",
    "from nltk.tokenize import sent_tokenize\n",
    "nltk.download('punkt')"
   ]
  },
  {
   "cell_type": "code",
   "execution_count": 43,
   "metadata": {},
   "outputs": [
    {
     "name": "stdout",
     "output_type": "stream",
     "text": [
      "Original Article: This arrived a day early. The game is entertaining for wrestling fans.  I wouldn't say it's great, but it's definitely \"good\".\n",
      "\n",
      " The storyline is linear, so if you aren't good at submissions,  it's easy to get stuck.  I feel like that's poorly designed.  It unlocks different features in the game,  so it's more than just annoying and feels more like a failure.\n",
      "\n",
      "Creation menus are widely varied which can lead to a lot if unique wrestlers, despite a lot of options there are limitations that become apparent in short order.  It's also difficult to use the shaders.  The hair does not look even close to real.  Being able to upload my own music would be a huge plus, but not available.  Facial expressions and anything humanizing really takes a big hit when using wrestler you create.\n",
      "\n",
      "There are a ton of moves, finishers, and signature moves (which can be different than finishers).  The variety is almost overwhelming.\n",
      "\n",
      "Fans will like this.  Perhaps even old fans trying to recapture the days of Andre the Giant and the like.  Good game, all in all.\n",
      "\n",
      "-->Sentence 0: This arrived a day early.\n",
      "\n",
      "-->Sentence 1: The game is entertaining for wrestling fans.\n",
      "\n",
      "-->Sentence 2: I wouldn't say it's great, but it's definitely \"good\".\n",
      "\n",
      "-->Sentence 3: The storyline is linear, so if you aren't good at submissions,  it's easy to get stuck.\n",
      "\n",
      "-->Sentence 4: I feel like that's poorly designed.\n",
      "\n",
      "-->Sentence 5: It unlocks different features in the game,  so it's more than just annoying and feels more like a failure.\n",
      "\n",
      "-->Sentence 6: Creation menus are widely varied which can lead to a lot if unique wrestlers, despite a lot of options there are limitations that become apparent in short order.\n",
      "\n",
      "-->Sentence 7: It's also difficult to use the shaders.\n",
      "\n",
      "-->Sentence 8: The hair does not look even close to real.\n",
      "\n",
      "-->Sentence 9: Being able to upload my own music would be a huge plus, but not available.\n",
      "\n",
      "-->Sentence 10: Facial expressions and anything humanizing really takes a big hit when using wrestler you create.\n",
      "\n",
      "-->Sentence 11: There are a ton of moves, finishers, and signature moves (which can be different than finishers).\n",
      "\n",
      "-->Sentence 12: The variety is almost overwhelming.\n",
      "\n",
      "-->Sentence 13: Fans will like this.\n",
      "\n",
      "-->Sentence 14: Perhaps even old fans trying to recapture the days of Andre the Giant and the like.\n",
      "\n",
      "-->Sentence 15: Good game, all in all.\n",
      "\n"
     ]
    }
   ],
   "source": [
    "for review in [b]:\n",
    "    print('Original Article: %s' % (review))\n",
    "    print()\n",
    "    doc = sent_tokenize(review)\n",
    "    for i, token in enumerate(doc):\n",
    "        print('-->Sentence %d: %s' % (i, token))\n",
    "        print()"
   ]
  },
  {
   "cell_type": "code",
   "execution_count": 46,
   "metadata": {},
   "outputs": [
    {
     "data": {
      "text/plain": [
       "['This arrived a day early.',\n",
       " 'The game is entertaining for wrestling fans.',\n",
       " 'I wouldn\\'t say it\\'s great, but it\\'s definitely \"good\".',\n",
       " \"The storyline is linear, so if you aren't good at submissions,  it's easy to get stuck.\",\n",
       " \"I feel like that's poorly designed.\",\n",
       " \"It unlocks different features in the game,  so it's more than just annoying and feels more like a failure.\",\n",
       " 'Creation menus are widely varied which can lead to a lot if unique wrestlers, despite a lot of options there are limitations that become apparent in short order.',\n",
       " \"It's also difficult to use the shaders.\",\n",
       " 'The hair does not look even close to real.',\n",
       " 'Being able to upload my own music would be a huge plus, but not available.',\n",
       " 'Facial expressions and anything humanizing really takes a big hit when using wrestler you create.',\n",
       " 'There are a ton of moves, finishers, and signature moves (which can be different than finishers).',\n",
       " 'The variety is almost overwhelming.',\n",
       " 'Fans will like this.',\n",
       " 'Perhaps even old fans trying to recapture the days of Andre the Giant and the like.',\n",
       " 'Good game, all in all.']"
      ]
     },
     "execution_count": 46,
     "metadata": {},
     "output_type": "execute_result"
    }
   ],
   "source": [
    " doc = sent_tokenize(b)\n",
    "tokens1 = [token for token in doc]\n",
    "tokens1"
   ]
  },
  {
   "cell_type": "code",
   "execution_count": 47,
   "metadata": {},
   "outputs": [
    {
     "data": {
      "text/plain": [
       "16"
      ]
     },
     "execution_count": 47,
     "metadata": {},
     "output_type": "execute_result"
    }
   ],
   "source": [
    "len(tokens1)"
   ]
  }
 ],
 "metadata": {
  "kernelspec": {
   "display_name": "Python 3",
   "language": "python",
   "name": "python3"
  },
  "language_info": {
   "codemirror_mode": {
    "name": "ipython",
    "version": 3
   },
   "file_extension": ".py",
   "mimetype": "text/x-python",
   "name": "python",
   "nbconvert_exporter": "python",
   "pygments_lexer": "ipython3",
   "version": "3.7.1"
  }
 },
 "nbformat": 4,
 "nbformat_minor": 2
}

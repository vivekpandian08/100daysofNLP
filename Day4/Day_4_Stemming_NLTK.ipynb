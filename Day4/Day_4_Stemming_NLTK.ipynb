{
 "cells": [
  {
   "cell_type": "markdown",
   "metadata": {},
   "source": [
    "# Stemming using NLTK\n"
   ]
  },
  {
   "cell_type": "code",
   "execution_count": 16,
   "metadata": {},
   "outputs": [],
   "source": [
    "import os\n",
    "os.chdir('C:/Users/vivek/OneDrive/Desktop/100daysofNLP')"
   ]
  },
  {
   "cell_type": "code",
   "execution_count": 17,
   "metadata": {},
   "outputs": [],
   "source": [
    "import numpy as np\n",
    "import pandas as pd\n",
    "import matplotlib.pyplot as plt\n",
    "import seaborn as sns\n",
    "import csv\n",
    "import os.path\n",
    "import sys"
   ]
  },
  {
   "cell_type": "code",
   "execution_count": 3,
   "metadata": {},
   "outputs": [],
   "source": [
    "pd.set_option('display.max_colwidth', -1)"
   ]
  },
  {
   "cell_type": "code",
   "execution_count": 18,
   "metadata": {},
   "outputs": [],
   "source": [
    "df=pd.read_csv('covid19.csv')"
   ]
  },
  {
   "cell_type": "code",
   "execution_count": 19,
   "metadata": {},
   "outputs": [
    {
     "data": {
      "text/html": [
       "<div>\n",
       "<style scoped>\n",
       "    .dataframe tbody tr th:only-of-type {\n",
       "        vertical-align: middle;\n",
       "    }\n",
       "\n",
       "    .dataframe tbody tr th {\n",
       "        vertical-align: top;\n",
       "    }\n",
       "\n",
       "    .dataframe thead th {\n",
       "        text-align: right;\n",
       "    }\n",
       "</style>\n",
       "<table border=\"1\" class=\"dataframe\">\n",
       "  <thead>\n",
       "    <tr style=\"text-align: right;\">\n",
       "      <th></th>\n",
       "      <th>Datetime</th>\n",
       "      <th>Text</th>\n",
       "      <th>Retweets</th>\n",
       "    </tr>\n",
       "  </thead>\n",
       "  <tbody>\n",
       "    <tr>\n",
       "      <th>0</th>\n",
       "      <td>2020-03-31 23:59:59+00:00</td>\n",
       "      <td>“Nursing student Brian Thomas never imagined his on-the-job education would transform into fighting on the very front lines of the COVID-19 pandemic, or that he would be forced to take extreme safety precautions each time he arrived home from his internship...” - Mark S. King</td>\n",
       "      <td>11</td>\n",
       "    </tr>\n",
       "    <tr>\n",
       "      <th>1</th>\n",
       "      <td>2020-03-31 23:59:59+00:00</td>\n",
       "      <td>You can furlough only when there is no work for them to do, due to Covid-19. Once work is available, after the 3 week minimum, employee should be able to return to it. ie childcare commitment will not be taken in account and the organisation’s policy on absence is to be followed.</td>\n",
       "      <td>0</td>\n",
       "    </tr>\n",
       "    <tr>\n",
       "      <th>2</th>\n",
       "      <td>2020-03-31 23:59:59+00:00</td>\n",
       "      <td>Outspoken tycoon #RenZhiqiang “disappeared” more than 2 weeks after criticizing press restrictions &amp;amp; lack of #Chinese gov’t transparency about #COVID19 virus. He should be released immediately.</td>\n",
       "      <td>1036</td>\n",
       "    </tr>\n",
       "    <tr>\n",
       "      <th>3</th>\n",
       "      <td>2020-03-31 23:59:59+00:00</td>\n",
       "      <td>Jamaican invention a COVID-19 fighter http://www.jamaicaobserver.com/news/jamaican-invention-a-covid-19-fighter-utech-student-on-cloud-nine-as-creation-touted-as-possible-weapon-against-deadly-virus_190952 via @jamaicaobserver</td>\n",
       "      <td>0</td>\n",
       "    </tr>\n",
       "    <tr>\n",
       "      <th>4</th>\n",
       "      <td>2020-03-31 23:59:58+00:00</td>\n",
       "      <td>He golfed He campaigned He watched tv He partied He tweeted, hundreds of times. But he couldn't pay attention to a deadly virus 100,000 dead Americans The mother fucker should resign #coronavirus #covid19 .@realdonaldtrump</td>\n",
       "      <td>0</td>\n",
       "    </tr>\n",
       "  </tbody>\n",
       "</table>\n",
       "</div>"
      ],
      "text/plain": [
       "                    Datetime  \\\n",
       "0  2020-03-31 23:59:59+00:00   \n",
       "1  2020-03-31 23:59:59+00:00   \n",
       "2  2020-03-31 23:59:59+00:00   \n",
       "3  2020-03-31 23:59:59+00:00   \n",
       "4  2020-03-31 23:59:58+00:00   \n",
       "\n",
       "                                                                                                                                                                                                                                                                                       Text  \\\n",
       "0  “Nursing student Brian Thomas never imagined his on-the-job education would transform into fighting on the very front lines of the COVID-19 pandemic, or that he would be forced to take extreme safety precautions each time he arrived home from his internship...” - Mark S. King       \n",
       "1  You can furlough only when there is no work for them to do, due to Covid-19. Once work is available, after the 3 week minimum, employee should be able to return to it. ie childcare commitment will not be taken in account and the organisation’s policy on absence is to be followed.   \n",
       "2  Outspoken tycoon #RenZhiqiang “disappeared” more than 2 weeks after criticizing press restrictions &amp; lack of #Chinese gov’t transparency about #COVID19 virus. He should be released immediately.                                                                                      \n",
       "3  Jamaican invention a COVID-19 fighter http://www.jamaicaobserver.com/news/jamaican-invention-a-covid-19-fighter-utech-student-on-cloud-nine-as-creation-touted-as-possible-weapon-against-deadly-virus_190952 via @jamaicaobserver                                                         \n",
       "4  He golfed He campaigned He watched tv He partied He tweeted, hundreds of times. But he couldn't pay attention to a deadly virus 100,000 dead Americans The mother fucker should resign #coronavirus #covid19 .@realdonaldtrump                                                             \n",
       "\n",
       "   Retweets  \n",
       "0  11        \n",
       "1  0         \n",
       "2  1036      \n",
       "3  0         \n",
       "4  0         "
      ]
     },
     "execution_count": 19,
     "metadata": {},
     "output_type": "execute_result"
    }
   ],
   "source": [
    "df.head()"
   ]
  },
  {
   "cell_type": "code",
   "execution_count": 20,
   "metadata": {},
   "outputs": [
    {
     "data": {
      "text/plain": [
       "(12000, 3)"
      ]
     },
     "execution_count": 20,
     "metadata": {},
     "output_type": "execute_result"
    }
   ],
   "source": [
    "df.shape"
   ]
  },
  {
   "cell_type": "code",
   "execution_count": 23,
   "metadata": {},
   "outputs": [],
   "source": [
    "sent=df.iloc[1,1]"
   ]
  },
  {
   "cell_type": "code",
   "execution_count": 24,
   "metadata": {},
   "outputs": [
    {
     "data": {
      "text/plain": [
       "'You can furlough only when there is no work for them to do, due to Covid-19. Once work is available, after the 3 week minimum, employee should be able to return to it. ie childcare commitment will not be taken in account and the organisation’s policy on absence is to be followed.'"
      ]
     },
     "execution_count": 24,
     "metadata": {},
     "output_type": "execute_result"
    }
   ],
   "source": [
    "sent"
   ]
  },
  {
   "cell_type": "markdown",
   "metadata": {},
   "source": [
    "#Poster Stemmer"
   ]
  },
  {
   "cell_type": "code",
   "execution_count": 9,
   "metadata": {},
   "outputs": [
    {
     "name": "stderr",
     "output_type": "stream",
     "text": [
      "[nltk_data] Downloading package punkt to\n",
      "[nltk_data]     C:\\Users\\vivek\\AppData\\Roaming\\nltk_data...\n",
      "[nltk_data]   Package punkt is already up-to-date!\n"
     ]
    }
   ],
   "source": [
    "import nltk\n",
    "nltk.download('punkt')\n",
    "from nltk.stem.porter import *\n"
   ]
  },
  {
   "cell_type": "code",
   "execution_count": 25,
   "metadata": {},
   "outputs": [],
   "source": [
    "porterStemmer = PorterStemmer()\n",
    "words = nltk.word_tokenize(sent)"
   ]
  },
  {
   "cell_type": "code",
   "execution_count": 29,
   "metadata": {},
   "outputs": [],
   "source": [
    "stemWords = [porterStemmer.stem(word) for word in words]\n",
    "stem_poster=' '.join(stemWords)"
   ]
  },
  {
   "cell_type": "code",
   "execution_count": 30,
   "metadata": {},
   "outputs": [
    {
     "data": {
      "text/plain": [
       "'you can furlough onli when there is no work for them to do , due to covid-19 . onc work is avail , after the 3 week minimum , employe should be abl to return to it . ie childcar commit will not be taken in account and the organis ’ s polici on absenc is to be follow .'"
      ]
     },
     "execution_count": 30,
     "metadata": {},
     "output_type": "execute_result"
    }
   ],
   "source": [
    "stem_poster"
   ]
  },
  {
   "cell_type": "markdown",
   "metadata": {},
   "source": [
    "#SnowBall Stemmer"
   ]
  },
  {
   "cell_type": "code",
   "execution_count": 28,
   "metadata": {},
   "outputs": [],
   "source": [
    "from nltk.stem.snowball import SnowballStemmer\n",
    "snowBallStemmer = SnowballStemmer(\"english\")"
   ]
  },
  {
   "cell_type": "code",
   "execution_count": 32,
   "metadata": {},
   "outputs": [],
   "source": [
    "stemWords = [snowBallStemmer.stem(word) for word in words]\n",
    "stem_snowball=' '.join(stemWords)"
   ]
  },
  {
   "cell_type": "code",
   "execution_count": 33,
   "metadata": {},
   "outputs": [
    {
     "data": {
      "text/plain": [
       "'you can furlough onli when there is no work for them to do , due to covid-19 . onc work is avail , after the 3 week minimum , employe should be abl to return to it . ie childcar commit will not be taken in account and the organis ’ s polici on absenc is to be follow .'"
      ]
     },
     "execution_count": 33,
     "metadata": {},
     "output_type": "execute_result"
    }
   ],
   "source": [
    "stem_snowball"
   ]
  },
  {
   "cell_type": "markdown",
   "metadata": {},
   "source": [
    "#Lancaster Stemmer"
   ]
  },
  {
   "cell_type": "code",
   "execution_count": 34,
   "metadata": {},
   "outputs": [],
   "source": [
    "from nltk.stem.lancaster import *\n",
    "lancasterStemmer = LancasterStemmer()"
   ]
  },
  {
   "cell_type": "code",
   "execution_count": 36,
   "metadata": {},
   "outputs": [],
   "source": [
    "stemWords = [lancasterStemmer.stem(word) for word in words]\n",
    "stem_lancaster=' '.join(stemWords)"
   ]
  },
  {
   "cell_type": "code",
   "execution_count": 37,
   "metadata": {},
   "outputs": [
    {
     "data": {
      "text/plain": [
       "'you can furlough on when ther is no work for them to do , due to covid-19 . ont work is avail , aft the 3 week minim , employ should be abl to return to it . ie childc commit wil not be tak in account and the org ’ s policy on abs is to be follow .'"
      ]
     },
     "execution_count": 37,
     "metadata": {},
     "output_type": "execute_result"
    }
   ],
   "source": [
    "stem_lancaster"
   ]
  },
  {
   "cell_type": "markdown",
   "metadata": {},
   "source": [
    "#Comparison"
   ]
  },
  {
   "cell_type": "code",
   "execution_count": 38,
   "metadata": {},
   "outputs": [
    {
     "data": {
      "text/plain": [
       "('You can furlough only when there is no work for them to do, due to Covid-19. Once work is available, after the 3 week minimum, employee should be able to return to it. ie childcare commitment will not be taken in account and the organisation’s policy on absence is to be followed.',\n",
       " 'you can furlough onli when there is no work for them to do , due to covid-19 . onc work is avail , after the 3 week minimum , employe should be abl to return to it . ie childcar commit will not be taken in account and the organis ’ s polici on absenc is to be follow .',\n",
       " 'you can furlough onli when there is no work for them to do , due to covid-19 . onc work is avail , after the 3 week minimum , employe should be abl to return to it . ie childcar commit will not be taken in account and the organis ’ s polici on absenc is to be follow .',\n",
       " 'you can furlough on when ther is no work for them to do , due to covid-19 . ont work is avail , aft the 3 week minim , employ should be abl to return to it . ie childc commit wil not be tak in account and the org ’ s policy on abs is to be follow .')"
      ]
     },
     "execution_count": 38,
     "metadata": {},
     "output_type": "execute_result"
    }
   ],
   "source": [
    "sent,stem_poster,stem_snowball,stem_lancaster"
   ]
  }
 ],
 "metadata": {
  "kernelspec": {
   "display_name": "Python 3",
   "language": "python",
   "name": "python3"
  },
  "language_info": {
   "codemirror_mode": {
    "name": "ipython",
    "version": 3
   },
   "file_extension": ".py",
   "mimetype": "text/x-python",
   "name": "python",
   "nbconvert_exporter": "python",
   "pygments_lexer": "ipython3",
   "version": "3.7.1"
  }
 },
 "nbformat": 4,
 "nbformat_minor": 2
}
